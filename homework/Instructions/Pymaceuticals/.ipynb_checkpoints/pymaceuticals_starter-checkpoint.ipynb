{
 "cells": [
  {
   "cell_type": "markdown",
   "metadata": {},
   "source": [
    "## Observations and Insights"
   ]
  },
  {
   "cell_type": "code",
   "execution_count": 16,
   "metadata": {},
   "outputs": [],
   "source": [
    "# 3 Oberservations & Inferences\n",
    "#\n",
    "# 1. There is a strong correlation between the Weight (g) of a mouse, and its Average Tumor Volume (mm3) for the\n",
    "# Capomulin regimen. As the Weight (g) of the mouse increases, so does the Average Tumor Volume (mm3). From this,\n",
    "# we can infer that the Capomulin regimen has a higher success rate when there is less mass present in which it can\n",
    "# disperse. In other words, the heavier the mouse, the less successful the regimen.\n",
    "#\n",
    "# 2. All regimens other than Ramicane and Capomulin yielded Average Tumor Volumes (mm3) between the ranges of 52 \n",
    "# and 55, while Ramicane and Capomulin yielded Average Tumor Volumes (mm3) of 40.22 and 40.68 respectively. Because \n",
    "# all other regimens fell into the same range (52 to 55 mm3) as the Placebo regimen, which should yield no drug \n",
    "# -related effect on the tumors, we can infer that the other regimens yielded little to no drug-related effects on the \n",
    "# tumors.\n",
    "# \n",
    "# 3. Ramicane and Capomulin were the only regimens that resulted in a decreased Final Tumor Volume (mm3). All other \n",
    "# regimens yielded higher Final Tumor Volumes (mm3) than the Starting Tumor Volumes (mm3). We can see that Ramicane\n",
    "# and Capomulin were the only two successful regimens in the study. "
   ]
  },
  {
   "cell_type": "markdown",
   "metadata": {},
   "source": []
  },
  {
   "cell_type": "markdown",
   "metadata": {},
   "source": [
    "## Dependencies and starter code"
   ]
  },
  {
   "cell_type": "code",
   "execution_count": 17,
   "metadata": {},
   "outputs": [
    {
     "data": {
      "text/html": [
       "<div>\n",
       "<style scoped>\n",
       "    .dataframe tbody tr th:only-of-type {\n",
       "        vertical-align: middle;\n",
       "    }\n",
       "\n",
       "    .dataframe tbody tr th {\n",
       "        vertical-align: top;\n",
       "    }\n",
       "\n",
       "    .dataframe thead th {\n",
       "        text-align: right;\n",
       "    }\n",
       "</style>\n",
       "<table border=\"1\" class=\"dataframe\">\n",
       "  <thead>\n",
       "    <tr style=\"text-align: right;\">\n",
       "      <th></th>\n",
       "      <th>Mouse ID</th>\n",
       "      <th>Drug Regimen</th>\n",
       "      <th>Sex</th>\n",
       "      <th>Age_months</th>\n",
       "      <th>Weight (g)</th>\n",
       "      <th>Timepoint</th>\n",
       "      <th>Tumor Volume (mm3)</th>\n",
       "      <th>Metastatic Sites</th>\n",
       "    </tr>\n",
       "  </thead>\n",
       "  <tbody>\n",
       "    <tr>\n",
       "      <th>0</th>\n",
       "      <td>k403</td>\n",
       "      <td>Ramicane</td>\n",
       "      <td>Male</td>\n",
       "      <td>21</td>\n",
       "      <td>16</td>\n",
       "      <td>0</td>\n",
       "      <td>45.000000</td>\n",
       "      <td>0</td>\n",
       "    </tr>\n",
       "    <tr>\n",
       "      <th>1</th>\n",
       "      <td>k403</td>\n",
       "      <td>Ramicane</td>\n",
       "      <td>Male</td>\n",
       "      <td>21</td>\n",
       "      <td>16</td>\n",
       "      <td>5</td>\n",
       "      <td>38.825898</td>\n",
       "      <td>0</td>\n",
       "    </tr>\n",
       "    <tr>\n",
       "      <th>2</th>\n",
       "      <td>k403</td>\n",
       "      <td>Ramicane</td>\n",
       "      <td>Male</td>\n",
       "      <td>21</td>\n",
       "      <td>16</td>\n",
       "      <td>10</td>\n",
       "      <td>35.014271</td>\n",
       "      <td>1</td>\n",
       "    </tr>\n",
       "    <tr>\n",
       "      <th>3</th>\n",
       "      <td>k403</td>\n",
       "      <td>Ramicane</td>\n",
       "      <td>Male</td>\n",
       "      <td>21</td>\n",
       "      <td>16</td>\n",
       "      <td>15</td>\n",
       "      <td>34.223992</td>\n",
       "      <td>1</td>\n",
       "    </tr>\n",
       "    <tr>\n",
       "      <th>4</th>\n",
       "      <td>k403</td>\n",
       "      <td>Ramicane</td>\n",
       "      <td>Male</td>\n",
       "      <td>21</td>\n",
       "      <td>16</td>\n",
       "      <td>20</td>\n",
       "      <td>32.997729</td>\n",
       "      <td>1</td>\n",
       "    </tr>\n",
       "    <tr>\n",
       "      <th>...</th>\n",
       "      <td>...</td>\n",
       "      <td>...</td>\n",
       "      <td>...</td>\n",
       "      <td>...</td>\n",
       "      <td>...</td>\n",
       "      <td>...</td>\n",
       "      <td>...</td>\n",
       "      <td>...</td>\n",
       "    </tr>\n",
       "    <tr>\n",
       "      <th>1888</th>\n",
       "      <td>z969</td>\n",
       "      <td>Naftisol</td>\n",
       "      <td>Male</td>\n",
       "      <td>9</td>\n",
       "      <td>30</td>\n",
       "      <td>25</td>\n",
       "      <td>63.145652</td>\n",
       "      <td>2</td>\n",
       "    </tr>\n",
       "    <tr>\n",
       "      <th>1889</th>\n",
       "      <td>z969</td>\n",
       "      <td>Naftisol</td>\n",
       "      <td>Male</td>\n",
       "      <td>9</td>\n",
       "      <td>30</td>\n",
       "      <td>30</td>\n",
       "      <td>65.841013</td>\n",
       "      <td>3</td>\n",
       "    </tr>\n",
       "    <tr>\n",
       "      <th>1890</th>\n",
       "      <td>z969</td>\n",
       "      <td>Naftisol</td>\n",
       "      <td>Male</td>\n",
       "      <td>9</td>\n",
       "      <td>30</td>\n",
       "      <td>35</td>\n",
       "      <td>69.176246</td>\n",
       "      <td>4</td>\n",
       "    </tr>\n",
       "    <tr>\n",
       "      <th>1891</th>\n",
       "      <td>z969</td>\n",
       "      <td>Naftisol</td>\n",
       "      <td>Male</td>\n",
       "      <td>9</td>\n",
       "      <td>30</td>\n",
       "      <td>40</td>\n",
       "      <td>70.314904</td>\n",
       "      <td>4</td>\n",
       "    </tr>\n",
       "    <tr>\n",
       "      <th>1892</th>\n",
       "      <td>z969</td>\n",
       "      <td>Naftisol</td>\n",
       "      <td>Male</td>\n",
       "      <td>9</td>\n",
       "      <td>30</td>\n",
       "      <td>45</td>\n",
       "      <td>73.867845</td>\n",
       "      <td>4</td>\n",
       "    </tr>\n",
       "  </tbody>\n",
       "</table>\n",
       "<p>1893 rows × 8 columns</p>\n",
       "</div>"
      ],
      "text/plain": [
       "     Mouse ID Drug Regimen   Sex  Age_months  Weight (g)  Timepoint  \\\n",
       "0        k403     Ramicane  Male          21          16          0   \n",
       "1        k403     Ramicane  Male          21          16          5   \n",
       "2        k403     Ramicane  Male          21          16         10   \n",
       "3        k403     Ramicane  Male          21          16         15   \n",
       "4        k403     Ramicane  Male          21          16         20   \n",
       "...       ...          ...   ...         ...         ...        ...   \n",
       "1888     z969     Naftisol  Male           9          30         25   \n",
       "1889     z969     Naftisol  Male           9          30         30   \n",
       "1890     z969     Naftisol  Male           9          30         35   \n",
       "1891     z969     Naftisol  Male           9          30         40   \n",
       "1892     z969     Naftisol  Male           9          30         45   \n",
       "\n",
       "      Tumor Volume (mm3)  Metastatic Sites  \n",
       "0              45.000000                 0  \n",
       "1              38.825898                 0  \n",
       "2              35.014271                 1  \n",
       "3              34.223992                 1  \n",
       "4              32.997729                 1  \n",
       "...                  ...               ...  \n",
       "1888           63.145652                 2  \n",
       "1889           65.841013                 3  \n",
       "1890           69.176246                 4  \n",
       "1891           70.314904                 4  \n",
       "1892           73.867845                 4  \n",
       "\n",
       "[1893 rows x 8 columns]"
      ]
     },
     "execution_count": 17,
     "metadata": {},
     "output_type": "execute_result"
    }
   ],
   "source": [
    "# Dependencies and Setup\n",
    "import matplotlib.pyplot as plt\n",
    "import pandas as pd\n",
    "import scipy.stats as st\n",
    "import numpy as np\n",
    "from scipy.stats import linregress\n",
    "\n",
    "# Study data files\n",
    "mouse_metadata = \"data/Mouse_metadata.csv\"\n",
    "study_results = \"data/Study_results.csv\"\n",
    "\n",
    "# Read the mouse data and the study results\n",
    "mouse_metadata = pd.read_csv(mouse_metadata)\n",
    "study_results = pd.read_csv(study_results)\n",
    "\n",
    "# Combine the data into a single dataset\n",
    "mouse_data_complete = pd.merge(mouse_metadata, study_results, how=\"left\", on=[\"Mouse ID\"])\n",
    "mouse_data_complete"
   ]
  },
  {
   "cell_type": "markdown",
   "metadata": {},
   "source": [
    "## Summary statistics"
   ]
  },
  {
   "cell_type": "code",
   "execution_count": 18,
   "metadata": {},
   "outputs": [],
   "source": [
    "# Look at Drug Regimen & Tumor Volume\n",
    "total_tumor_vol = mouse_data_complete[[\"Drug Regimen\",\"Tumor Volume (mm3)\"]]\n",
    "\n",
    "# Group by Drug Regimen & Calculate Average of Tumor Volume\n",
    "regimen_grouped = total_tumor_vol.groupby([\"Drug Regimen\"])\n",
    "average_tumor_vol = regimen_grouped.mean()\n",
    "\n",
    "# Calculate Median of Tumor Volume\n",
    "regimen_grouped = total_tumor_vol.groupby([\"Drug Regimen\"])\n",
    "median_tumor_vol = regimen_grouped.median()\n",
    "\n",
    "# Calculate Variance, Standard Deviation & Standard Error\n",
    "tumor_variance = (total_tumor_vol.groupby([\"Drug Regimen\"]).var()[\"Tumor Volume (mm3)\"])\n",
    "tumor_sd = (total_tumor_vol.groupby([\"Drug Regimen\"]).std()[\"Tumor Volume (mm3)\"])\n",
    "tumor_sem = (total_tumor_vol.groupby([\"Drug Regimen\"]).sem()[\"Tumor Volume (mm3)\"])\n",
    "\n",
    "# Merge Standard Deviation & Error\n",
    "tumor_sd_and_sem = pd.merge(tumor_sd, tumor_sem, how=\"left\", on=[\"Drug Regimen\"])"
   ]
  },
  {
   "cell_type": "code",
   "execution_count": 19,
   "metadata": {},
   "outputs": [
    {
     "data": {
      "text/html": [
       "<div>\n",
       "<style scoped>\n",
       "    .dataframe tbody tr th:only-of-type {\n",
       "        vertical-align: middle;\n",
       "    }\n",
       "\n",
       "    .dataframe tbody tr th {\n",
       "        vertical-align: top;\n",
       "    }\n",
       "\n",
       "    .dataframe thead th {\n",
       "        text-align: right;\n",
       "    }\n",
       "</style>\n",
       "<table border=\"1\" class=\"dataframe\">\n",
       "  <thead>\n",
       "    <tr style=\"text-align: right;\">\n",
       "      <th></th>\n",
       "      <th>Average Tumor Volume</th>\n",
       "      <th>Median Tumor Volume</th>\n",
       "      <th>Tumor Volume Variance</th>\n",
       "      <th>Tumor Volume Standard Deviation</th>\n",
       "      <th>Tumor Volume Standard Error</th>\n",
       "    </tr>\n",
       "    <tr>\n",
       "      <th>Drug Regimen</th>\n",
       "      <th></th>\n",
       "      <th></th>\n",
       "      <th></th>\n",
       "      <th></th>\n",
       "      <th></th>\n",
       "    </tr>\n",
       "  </thead>\n",
       "  <tbody>\n",
       "    <tr>\n",
       "      <th>Capomulin</th>\n",
       "      <td>40.675741</td>\n",
       "      <td>41.557809</td>\n",
       "      <td>24.947764</td>\n",
       "      <td>4.994774</td>\n",
       "      <td>0.329346</td>\n",
       "    </tr>\n",
       "    <tr>\n",
       "      <th>Ceftamin</th>\n",
       "      <td>52.591172</td>\n",
       "      <td>51.776157</td>\n",
       "      <td>39.290177</td>\n",
       "      <td>6.268188</td>\n",
       "      <td>0.469821</td>\n",
       "    </tr>\n",
       "    <tr>\n",
       "      <th>Infubinol</th>\n",
       "      <td>52.884795</td>\n",
       "      <td>51.820584</td>\n",
       "      <td>43.128684</td>\n",
       "      <td>6.567243</td>\n",
       "      <td>0.492236</td>\n",
       "    </tr>\n",
       "    <tr>\n",
       "      <th>Ketapril</th>\n",
       "      <td>55.235638</td>\n",
       "      <td>53.698743</td>\n",
       "      <td>68.553577</td>\n",
       "      <td>8.279709</td>\n",
       "      <td>0.603860</td>\n",
       "    </tr>\n",
       "    <tr>\n",
       "      <th>Naftisol</th>\n",
       "      <td>54.331565</td>\n",
       "      <td>52.509285</td>\n",
       "      <td>66.173479</td>\n",
       "      <td>8.134708</td>\n",
       "      <td>0.596466</td>\n",
       "    </tr>\n",
       "    <tr>\n",
       "      <th>Placebo</th>\n",
       "      <td>54.033581</td>\n",
       "      <td>52.288934</td>\n",
       "      <td>61.168083</td>\n",
       "      <td>7.821003</td>\n",
       "      <td>0.581331</td>\n",
       "    </tr>\n",
       "    <tr>\n",
       "      <th>Propriva</th>\n",
       "      <td>52.322552</td>\n",
       "      <td>50.854632</td>\n",
       "      <td>42.351070</td>\n",
       "      <td>6.507770</td>\n",
       "      <td>0.512884</td>\n",
       "    </tr>\n",
       "    <tr>\n",
       "      <th>Ramicane</th>\n",
       "      <td>40.216745</td>\n",
       "      <td>40.673236</td>\n",
       "      <td>23.486704</td>\n",
       "      <td>4.846308</td>\n",
       "      <td>0.320955</td>\n",
       "    </tr>\n",
       "    <tr>\n",
       "      <th>Stelasyn</th>\n",
       "      <td>54.233149</td>\n",
       "      <td>52.431737</td>\n",
       "      <td>59.450562</td>\n",
       "      <td>7.710419</td>\n",
       "      <td>0.573111</td>\n",
       "    </tr>\n",
       "    <tr>\n",
       "      <th>Zoniferol</th>\n",
       "      <td>53.236507</td>\n",
       "      <td>51.818479</td>\n",
       "      <td>48.533355</td>\n",
       "      <td>6.966589</td>\n",
       "      <td>0.516398</td>\n",
       "    </tr>\n",
       "  </tbody>\n",
       "</table>\n",
       "</div>"
      ],
      "text/plain": [
       "              Average Tumor Volume  Median Tumor Volume  \\\n",
       "Drug Regimen                                              \n",
       "Capomulin                40.675741            41.557809   \n",
       "Ceftamin                 52.591172            51.776157   \n",
       "Infubinol                52.884795            51.820584   \n",
       "Ketapril                 55.235638            53.698743   \n",
       "Naftisol                 54.331565            52.509285   \n",
       "Placebo                  54.033581            52.288934   \n",
       "Propriva                 52.322552            50.854632   \n",
       "Ramicane                 40.216745            40.673236   \n",
       "Stelasyn                 54.233149            52.431737   \n",
       "Zoniferol                53.236507            51.818479   \n",
       "\n",
       "              Tumor Volume Variance  Tumor Volume Standard Deviation  \\\n",
       "Drug Regimen                                                           \n",
       "Capomulin                 24.947764                         4.994774   \n",
       "Ceftamin                  39.290177                         6.268188   \n",
       "Infubinol                 43.128684                         6.567243   \n",
       "Ketapril                  68.553577                         8.279709   \n",
       "Naftisol                  66.173479                         8.134708   \n",
       "Placebo                   61.168083                         7.821003   \n",
       "Propriva                  42.351070                         6.507770   \n",
       "Ramicane                  23.486704                         4.846308   \n",
       "Stelasyn                  59.450562                         7.710419   \n",
       "Zoniferol                 48.533355                         6.966589   \n",
       "\n",
       "              Tumor Volume Standard Error  \n",
       "Drug Regimen                               \n",
       "Capomulin                        0.329346  \n",
       "Ceftamin                         0.469821  \n",
       "Infubinol                        0.492236  \n",
       "Ketapril                         0.603860  \n",
       "Naftisol                         0.596466  \n",
       "Placebo                          0.581331  \n",
       "Propriva                         0.512884  \n",
       "Ramicane                         0.320955  \n",
       "Stelasyn                         0.573111  \n",
       "Zoniferol                        0.516398  "
      ]
     },
     "execution_count": 19,
     "metadata": {},
     "output_type": "execute_result"
    }
   ],
   "source": [
    "# Generate a summary statistics table of mean, median, variance, standard deviation, and SEM of the tumor volume for each regimen\n",
    "\n",
    "# Merge and Rename above tables for Summary Table\n",
    "mouse_mean_median = pd.merge(average_tumor_vol, median_tumor_vol, how=\"left\", on=[\"Drug Regimen\"])\n",
    "mouse_mean_median = mouse_mean_median.rename(columns={\"Tumor Volume (mm3)_x\":\"Average Tumor Volume\",\"Tumor Volume (mm3)_y\":\"Median Tumor Volume\"})\n",
    "mouse_mean_median_var = pd.merge(mouse_mean_median, tumor_variance, how=\"left\", on=[\"Drug Regimen\"])\n",
    "mouse_mean_median_var = mouse_mean_median_var.rename(columns={\"Tumor Volume (mm3)\":\"Tumor Volume Variance\"})\n",
    "mouse_summary_data = pd.merge(mouse_mean_median_var, tumor_sd_and_sem, how=\"left\", on=[\"Drug Regimen\"])\n",
    "\n",
    "# Final Summary Table\n",
    "mouse_summary_data = mouse_summary_data.rename(columns={\"Tumor Volume (mm3)_x\":\"Tumor Volume Standard Deviation\",\"Tumor Volume (mm3)_y\":\"Tumor Volume Standard Error\"})\n",
    "mouse_summary_data"
   ]
  },
  {
   "cell_type": "code",
   "execution_count": 20,
   "metadata": {
    "scrolled": true
   },
   "outputs": [],
   "source": [
    "# Count number of times each regimen was used\n",
    "regimen_dp = mouse_data_complete[\"Drug Regimen\"].value_counts()\n",
    "\n",
    "# Add Regimen Data Points to Mouse Summary Data\n",
    "mouse_summary_data[\"Data Points\"] = regimen_dp\n",
    "mouse_summary_data = mouse_summary_data[[\"Data Points\", \"Average Tumor Volume\", \"Median Tumor Volume\", \"Tumor Volume Variance\", \"Tumor Volume Standard Deviation\", \"Tumor Volume Standard Error\"]]"
   ]
  },
  {
   "cell_type": "code",
   "execution_count": 21,
   "metadata": {},
   "outputs": [],
   "source": [
    "# Only look Data Points columns\n",
    "mouse_summary_data_dp = mouse_summary_data[[\"Data Points\"]]"
   ]
  },
  {
   "cell_type": "markdown",
   "metadata": {},
   "source": [
    "## Bar plots"
   ]
  },
  {
   "cell_type": "code",
   "execution_count": 22,
   "metadata": {},
   "outputs": [
    {
     "data": {
      "text/plain": [
       "Text(0.5, 1.0, 'Drug Regimen Data Points')"
      ]
     },
     "execution_count": 22,
     "metadata": {},
     "output_type": "execute_result"
    },
    {
     "data": {
      "image/png": "[encoded data removed]",
      "text/plain": [
       "<Figure size 432x288 with 1 Axes>"
      ]
     },
     "metadata": {
      "needs_background": "light"
     },
     "output_type": "display_data"
    }
   ],
   "source": [
    "# Generate a bar plot showing number of data points for each treatment regimen using pandas\n",
    "mouse_summary_data_dp.plot.bar()\n",
    "plt.ylabel('Data Points')\n",
    "plt.xlabel('Drug Regimen')\n",
    "plt.title('Drug Regimen Data Points')"
   ]
  },
  {
   "cell_type": "code",
   "execution_count": 23,
   "metadata": {
    "scrolled": true
   },
   "outputs": [
    {
     "data": {
      "image/png": "[encoded data removed]",
      "text/plain": [
       "<Figure size 432x288 with 1 Axes>"
      ]
     },
     "metadata": {
      "needs_background": "light"
     },
     "output_type": "display_data"
    }
   ],
   "source": [
    "# Generate a bar plot showing number of data points for each treatment regimen using pyplot\n",
    "x_axis = np.arange(0, len(mouse_summary_data_dp))\n",
    "tick_locations = []\n",
    "for x in x_axis:\n",
    "    tick_locations.append(x)\n",
    "\n",
    "plt.title(\"Drug Regimen Data Points\")\n",
    "plt.xlabel(\"Drug Regimen\")\n",
    "plt.ylabel(\"Data Points\")\n",
    "\n",
    "plt.xlim(-0.75, len(mouse_summary_data_dp)-.25)\n",
    "plt.ylim(0, max(mouse_summary_data_dp['Data Points']) + 5)\n",
    "\n",
    "plt.bar(x_axis, mouse_summary_data_dp['Data Points'], facecolor=\"red\", alpha=0.75, align=\"center\")\n",
    "plt.xticks(tick_locations, mouse_summary_data_dp.index, rotation='vertical')\n",
    "plt.show()"
   ]
  },
  {
   "cell_type": "code",
   "execution_count": 24,
   "metadata": {},
   "outputs": [
    {
     "data": {
      "text/plain": [
       "Male      958\n",
       "Female    935\n",
       "Name: Sex, dtype: int64"
      ]
     },
     "execution_count": 24,
     "metadata": {},
     "output_type": "execute_result"
    }
   ],
   "source": [
    "# Calculate amount of Females and Males used\n",
    "gender_counts = mouse_data_complete[\"Sex\"].value_counts()\n",
    "gender_counts"
   ]
  },
  {
   "cell_type": "markdown",
   "metadata": {},
   "source": [
    "## Pie plots"
   ]
  },
  {
   "cell_type": "code",
   "execution_count": 25,
   "metadata": {},
   "outputs": [
    {
     "data": {
      "text/plain": [
       "<matplotlib.legend.Legend at 0x1a1e93b9e8>"
      ]
     },
     "execution_count": 25,
     "metadata": {},
     "output_type": "execute_result"
    },
    {
     "data": {
      "image/png": "[encoded data removed]",
      "text/plain": [
       "<Figure size 432x288 with 1 Axes>"
      ]
     },
     "metadata": {},
     "output_type": "display_data"
    }
   ],
   "source": [
    "# Generate a pie plot showing the distribution of female versus male mice using pandas\n",
    "gender_counts.plot.pie(autopct='%1.1f%%',startangle=90)\n",
    "plt.tight_layout()\n",
    "plt.axis(\"equal\")\n",
    "plt.title(\"Distribution of Males vs Females\")\n",
    "plt.ylabel(\"Sex\")\n",
    "plt.legend(loc='best')"
   ]
  },
  {
   "cell_type": "code",
   "execution_count": 26,
   "metadata": {},
   "outputs": [
    {
     "data": {
      "image/png": "[encoded data removed]",
      "text/plain": [
       "<Figure size 432x288 with 1 Axes>"
      ]
     },
     "metadata": {},
     "output_type": "display_data"
    }
   ],
   "source": [
    "# Generate a pie plot showing the distribution of female versus male mice using pyplot\n",
    "gender = [\"Male\", \"Female\"]\n",
    "count = [958, 935]\n",
    "colors = [\"yellowgreen\", \"red\"]\n",
    "\n",
    "plt.title(\"Distribution of Males vs Females\")\n",
    "plt.pie(count, labels=gender, colors=colors,\n",
    "        autopct=\"%1.1f%%\", shadow=True, startangle=90)\n",
    "plt.axis(\"equal\")\n",
    "plt.legend(loc='best')\n",
    "plt.show()"
   ]
  },
  {
   "cell_type": "markdown",
   "metadata": {},
   "source": [
    "## Quartiles, outliers and boxplots"
   ]
  },
  {
   "cell_type": "code",
   "execution_count": 27,
   "metadata": {},
   "outputs": [
    {
     "data": {
      "text/html": [
       "<div>\n",
       "<style scoped>\n",
       "    .dataframe tbody tr th:only-of-type {\n",
       "        vertical-align: middle;\n",
       "    }\n",
       "\n",
       "    .dataframe tbody tr th {\n",
       "        vertical-align: top;\n",
       "    }\n",
       "\n",
       "    .dataframe thead th {\n",
       "        text-align: right;\n",
       "    }\n",
       "</style>\n",
       "<table border=\"1\" class=\"dataframe\">\n",
       "  <thead>\n",
       "    <tr style=\"text-align: right;\">\n",
       "      <th></th>\n",
       "      <th>Data Points</th>\n",
       "      <th>Average Tumor Volume</th>\n",
       "      <th>Median Tumor Volume</th>\n",
       "      <th>Tumor Volume Variance</th>\n",
       "      <th>Tumor Volume Standard Deviation</th>\n",
       "      <th>Tumor Volume Standard Error</th>\n",
       "    </tr>\n",
       "    <tr>\n",
       "      <th>Drug Regimen</th>\n",
       "      <th></th>\n",
       "      <th></th>\n",
       "      <th></th>\n",
       "      <th></th>\n",
       "      <th></th>\n",
       "      <th></th>\n",
       "    </tr>\n",
       "  </thead>\n",
       "  <tbody>\n",
       "    <tr>\n",
       "      <th>Ramicane</th>\n",
       "      <td>228</td>\n",
       "      <td>40.216745</td>\n",
       "      <td>40.673236</td>\n",
       "      <td>23.486704</td>\n",
       "      <td>4.846308</td>\n",
       "      <td>0.320955</td>\n",
       "    </tr>\n",
       "    <tr>\n",
       "      <th>Capomulin</th>\n",
       "      <td>230</td>\n",
       "      <td>40.675741</td>\n",
       "      <td>41.557809</td>\n",
       "      <td>24.947764</td>\n",
       "      <td>4.994774</td>\n",
       "      <td>0.329346</td>\n",
       "    </tr>\n",
       "    <tr>\n",
       "      <th>Propriva</th>\n",
       "      <td>161</td>\n",
       "      <td>52.322552</td>\n",
       "      <td>50.854632</td>\n",
       "      <td>42.351070</td>\n",
       "      <td>6.507770</td>\n",
       "      <td>0.512884</td>\n",
       "    </tr>\n",
       "    <tr>\n",
       "      <th>Ceftamin</th>\n",
       "      <td>178</td>\n",
       "      <td>52.591172</td>\n",
       "      <td>51.776157</td>\n",
       "      <td>39.290177</td>\n",
       "      <td>6.268188</td>\n",
       "      <td>0.469821</td>\n",
       "    </tr>\n",
       "    <tr>\n",
       "      <th>Infubinol</th>\n",
       "      <td>178</td>\n",
       "      <td>52.884795</td>\n",
       "      <td>51.820584</td>\n",
       "      <td>43.128684</td>\n",
       "      <td>6.567243</td>\n",
       "      <td>0.492236</td>\n",
       "    </tr>\n",
       "  </tbody>\n",
       "</table>\n",
       "</div>"
      ],
      "text/plain": [
       "              Data Points  Average Tumor Volume  Median Tumor Volume  \\\n",
       "Drug Regimen                                                           \n",
       "Ramicane              228             40.216745            40.673236   \n",
       "Capomulin             230             40.675741            41.557809   \n",
       "Propriva              161             52.322552            50.854632   \n",
       "Ceftamin              178             52.591172            51.776157   \n",
       "Infubinol             178             52.884795            51.820584   \n",
       "\n",
       "              Tumor Volume Variance  Tumor Volume Standard Deviation  \\\n",
       "Drug Regimen                                                           \n",
       "Ramicane                  23.486704                         4.846308   \n",
       "Capomulin                 24.947764                         4.994774   \n",
       "Propriva                  42.351070                         6.507770   \n",
       "Ceftamin                  39.290177                         6.268188   \n",
       "Infubinol                 43.128684                         6.567243   \n",
       "\n",
       "              Tumor Volume Standard Error  \n",
       "Drug Regimen                               \n",
       "Ramicane                         0.320955  \n",
       "Capomulin                        0.329346  \n",
       "Propriva                         0.512884  \n",
       "Ceftamin                         0.469821  \n",
       "Infubinol                        0.492236  "
      ]
     },
     "metadata": {},
     "output_type": "display_data"
    },
    {
     "name": "stdout",
     "output_type": "stream",
     "text": [
      "Regimen Quartiles, IQR, and Outliers\n",
      " \n",
      "Ramicane Lower Quartile: 31.56046955\n",
      "Ramicane Middle Quartile: 36.56165229\n",
      "Ramicane Upper Quartile: 40.65900627\n",
      "Ramicane IQR: 9.098536719999998\n",
      "Values below 17.912664470000003 could be outliers.\n",
      "Values above 54.30681135 could be outliers.\n",
      "Ramicane - No Outliers\n",
      "-----------------------\n",
      "Capomulin Lower Quartile: 32.37735684\n",
      "Capomulin Middle Quartile: 38.125164399999996\n",
      "Capomulin Upper Quartile: 40.1592203\n",
      "Capomulin IQR: 7.781863460000004\n",
      "Values below 20.70456164999999 could be outliers.\n",
      "Values above 51.83201549 could be outliers.\n",
      "Capomulin - No Outliers\n",
      "-----------------------\n",
      "Infubinol Lower Quartile: 54.04860769\n",
      "Infubinol Middle Quartile: 60.16518046\n",
      "Infubinol Upper Quartile: 65.52574285\n",
      "Infubinol IQR: 11.477135160000003\n",
      "Values below 36.83290494999999 could be outliers.\n",
      "Values above 82.74144559000001 could be outliers.\n",
      "Infubinol - One Outlier - Mouse ID: c326 - Final Mouse Tumor Volume (g): 36.321346\n",
      "-----------------------\n",
      "Ceftamin Lower Quartile: 48.72207785\n",
      "Ceftamin Middle Quartile: 59.85195552\n",
      "Ceftamin Upper Quartile: 64.29983003\n",
      "Ceftamin IQR: 15.577752179999997\n"
     ]
    },
    {
     "ename": "NameError",
     "evalue": "name 'pro_iqr' is not defined",
     "output_type": "error",
     "traceback": [
      "\u001b[0;31m---------------------------------------------------------------------------\u001b[0m",
      "\u001b[0;31mNameError\u001b[0m                                 Traceback (most recent call last)",
      "\u001b[0;32m<ipython-input-27-984c7be2c3d5>\u001b[0m in \u001b[0;36m<module>\u001b[0;34m\u001b[0m\n\u001b[1;32m    137\u001b[0m \u001b[0;31m# Determine Potential Outliers\u001b[0m\u001b[0;34m\u001b[0m\u001b[0;34m\u001b[0m\u001b[0;34m\u001b[0m\u001b[0m\n\u001b[1;32m    138\u001b[0m \u001b[0;34m\u001b[0m\u001b[0m\n\u001b[0;32m--> 139\u001b[0;31m \u001b[0mceft_lower_bound\u001b[0m \u001b[0;34m=\u001b[0m \u001b[0mceft_lowerq\u001b[0m \u001b[0;34m-\u001b[0m \u001b[0;34m(\u001b[0m\u001b[0;36m1.5\u001b[0m\u001b[0;34m*\u001b[0m\u001b[0mpro_iqr\u001b[0m\u001b[0;34m)\u001b[0m\u001b[0;34m\u001b[0m\u001b[0;34m\u001b[0m\u001b[0m\n\u001b[0m\u001b[1;32m    140\u001b[0m \u001b[0mceft_upper_bound\u001b[0m \u001b[0;34m=\u001b[0m \u001b[0mceft_upperq\u001b[0m \u001b[0;34m+\u001b[0m \u001b[0;34m(\u001b[0m\u001b[0;36m1.5\u001b[0m\u001b[0;34m*\u001b[0m\u001b[0mpro_iqr\u001b[0m\u001b[0;34m)\u001b[0m\u001b[0;34m\u001b[0m\u001b[0;34m\u001b[0m\u001b[0m\n\u001b[1;32m    141\u001b[0m \u001b[0mprint\u001b[0m\u001b[0;34m(\u001b[0m\u001b[0;34mf\"Values below {ceft_lower_bound} could be outliers.\"\u001b[0m\u001b[0;34m)\u001b[0m\u001b[0;34m\u001b[0m\u001b[0;34m\u001b[0m\u001b[0m\n",
      "\u001b[0;31mNameError\u001b[0m: name 'pro_iqr' is not defined"
     ]
    }
   ],
   "source": [
    "# Calculate the final tumor volume of each mouse across four of the most promising treatment regimens. Calculate the IQR and quantitatively determine if there are any potential outliers.\n",
    "\n",
    "# Show top 5 most promising treatment regimens\n",
    "best_regimens = mouse_summary_data.sort_values(by=\"Average Tumor Volume\", ascending=True)\n",
    "display(best_regimens.head(5))\n",
    "\n",
    "# Ramicane, Capomulin, Infubinol, and Ceftamin\n",
    "\n",
    "ramicane_summary = mouse_data_complete.loc[(mouse_data_complete[\"Drug Regimen\"] == \"Ramicane\")]\n",
    "capomulin_summary = mouse_data_complete.loc[(mouse_data_complete[\"Drug Regimen\"] == \"Capomulin\")]\n",
    "infubinol_summary = mouse_data_complete.loc[(mouse_data_complete[\"Drug Regimen\"] == \"Infubinol\")]\n",
    "ceftamin_summary = mouse_data_complete.loc[(mouse_data_complete[\"Drug Regimen\"] == \"Ceftamin\")]\n",
    "\n",
    "print(\"Regimen Quartiles, IQR, and Outliers\")\n",
    "print(\" \")\n",
    "\n",
    "# Ramicane Data\n",
    "\n",
    "# Calculate Final Tumor Volume\n",
    "\n",
    "ftv_ramicane = ramicane_summary.groupby('Mouse ID').last()\n",
    "ftv_ramicane = ftv_ramicane[[\"Tumor Volume (mm3)\"]]\n",
    "ftv_ramicane = ftv_ramicane.rename(columns={\"Tumor Volume (mm3)\":\"Ramicane Final Tumor Volume\"})\n",
    "\n",
    "# Calculate IQR\n",
    "\n",
    "ram_volumes = ftv_ramicane['Ramicane Final Tumor Volume']\n",
    "ram_quartiles = ram_volumes.quantile([.25,.5,.75])\n",
    "ram_lowerq = ram_quartiles[0.25]\n",
    "ram_midq = ram_quartiles[0.5]\n",
    "ram_upperq = ram_quartiles[0.75]\n",
    "ram_iqr = ram_upperq-ram_lowerq\n",
    "print(f\"Ramicane Lower Quartile: {ram_lowerq}\")\n",
    "print(f\"Ramicane Middle Quartile: {ram_midq}\")\n",
    "print(f\"Ramicane Upper Quartile: {ram_upperq}\")\n",
    "print(f\"Ramicane IQR: {ram_iqr}\")\n",
    "\n",
    "# Determine Potential Outliers\n",
    "\n",
    "ram_lower_bound = ram_lowerq - (1.5*ram_iqr)\n",
    "ram_upper_bound = ram_upperq + (1.5*ram_iqr)\n",
    "print(f\"Values below {ram_lower_bound} could be outliers.\")\n",
    "print(f\"Values above {ram_upper_bound} could be outliers.\")\n",
    "\n",
    "ramicane_low_outliers = ftv_ramicane.loc[(ftv_ramicane[\"Ramicane Final Tumor Volume\"] < 17.912)]\n",
    "ramicane_upper_outliers = ftv_ramicane.loc[(ftv_ramicane[\"Ramicane Final Tumor Volume\"] > 54.307)]\n",
    "print(\"Ramicane - No Outliers\")\n",
    "print(\"-----------------------\")\n",
    "\n",
    "# Capomulin Data\n",
    "\n",
    "# Calculate Final Tumor Volume\n",
    "\n",
    "ftv_capomulin = capomulin_summary.groupby('Mouse ID').last()\n",
    "ftv_capomulin = ftv_capomulin[[\"Tumor Volume (mm3)\"]]\n",
    "ftv_capomulin = ftv_capomulin.rename(columns={\"Tumor Volume (mm3)\":\"Capomulin Final Tumor Volume\"})\n",
    "\n",
    "# Calculate IQR\n",
    "\n",
    "cap_volumes = ftv_capomulin['Capomulin Final Tumor Volume']\n",
    "cap_quartiles = cap_volumes.quantile([.25,.5,.75])\n",
    "cap_lowerq = cap_quartiles[0.25]\n",
    "cap_midq = cap_quartiles[0.5]\n",
    "cap_upperq = cap_quartiles[0.75]\n",
    "cap_iqr = cap_upperq-cap_lowerq\n",
    "print(f\"Capomulin Lower Quartile: {cap_lowerq}\")\n",
    "print(f\"Capomulin Middle Quartile: {cap_midq}\")\n",
    "print(f\"Capomulin Upper Quartile: {cap_upperq}\")\n",
    "print(f\"Capomulin IQR: {cap_iqr}\")\n",
    "\n",
    "# Determine Potential Outliers\n",
    "\n",
    "cap_lower_bound = cap_lowerq - (1.5*cap_iqr)\n",
    "cap_upper_bound = cap_upperq + (1.5*cap_iqr)\n",
    "print(f\"Values below {cap_lower_bound} could be outliers.\")\n",
    "print(f\"Values above {cap_upper_bound} could be outliers.\")\n",
    "\n",
    "capomulin_low_outliers = ftv_capomulin.loc[(ftv_capomulin[\"Capomulin Final Tumor Volume\"] < 20.705)]\n",
    "capomulin_upper_outliers = ftv_capomulin.loc[(ftv_capomulin[\"Capomulin Final Tumor Volume\"] > 51.832)]\n",
    "print(\"Capomulin - No Outliers\")\n",
    "print(\"-----------------------\")\n",
    "\n",
    "# Infubinol Data\n",
    "\n",
    "# Calculate Final Tumor Volume\n",
    "\n",
    "ftv_infubinol = infubinol_summary.groupby('Mouse ID').last()\n",
    "ftv_infubinol = ftv_infubinol[[\"Tumor Volume (mm3)\"]]\n",
    "ftv_infubinol = ftv_infubinol.rename(columns={\"Tumor Volume (mm3)\":\"Infubinol Final Tumor Volume\"})\n",
    "\n",
    "# Calculate IQR\n",
    "\n",
    "inf_volumes = ftv_infubinol['Infubinol Final Tumor Volume']\n",
    "inf_quartiles = inf_volumes.quantile([.25,.5,.75])\n",
    "inf_lowerq = inf_quartiles[0.25]\n",
    "inf_midq = inf_quartiles[0.5]\n",
    "inf_upperq = inf_quartiles[0.75]\n",
    "inf_iqr = inf_upperq-inf_lowerq\n",
    "print(f\"Infubinol Lower Quartile: {inf_lowerq}\")\n",
    "print(f\"Infubinol Middle Quartile: {inf_midq}\")\n",
    "print(f\"Infubinol Upper Quartile: {inf_upperq}\")\n",
    "print(f\"Infubinol IQR: {inf_iqr}\")\n",
    "\n",
    "# Determine Potential Outliers\n",
    "\n",
    "inf_lower_bound = inf_lowerq - (1.5*inf_iqr)\n",
    "inf_upper_bound = inf_upperq + (1.5*inf_iqr)\n",
    "print(f\"Values below {inf_lower_bound} could be outliers.\")\n",
    "print(f\"Values above {inf_upper_bound} could be outliers.\")\n",
    "\n",
    "infubinol_low_outliers = ftv_infubinol.loc[(ftv_infubinol[\"Infubinol Final Tumor Volume\"] < 36.833)]\n",
    "infubinol_upper_outliers = ftv_infubinol.loc[(ftv_infubinol[\"Infubinol Final Tumor Volume\"] > 82.741)]\n",
    "print(\"Infubinol - One Outlier - Mouse ID: c326 - Final Mouse Tumor Volume (g): 36.321346\")\n",
    "print(\"-----------------------\")\n",
    "\n",
    "# Ceftamin Data\n",
    "\n",
    "# Calculate Final Tumor Volume\n",
    "\n",
    "ftv_ceftamin = ceftamin_summary.groupby('Mouse ID').last()\n",
    "ftv_ceftamin = ftv_ceftamin[[\"Tumor Volume (mm3)\"]]\n",
    "ftv_ceftamin = ftv_ceftamin.rename(columns={\"Tumor Volume (mm3)\":\"Ceftamin Final Tumor Volume\"})\n",
    "\n",
    "# Calculate IQR\n",
    "\n",
    "ceft_volumes = ftv_ceftamin['Ceftamin Final Tumor Volume']\n",
    "ceft_quartiles = ceft_volumes.quantile([.25,.5,.75])\n",
    "ceft_lowerq = ceft_quartiles[0.25]\n",
    "ceft_midq = ceft_quartiles[0.5]\n",
    "ceft_upperq = ceft_quartiles[0.75]\n",
    "ceft_iqr = ceft_upperq-ceft_lowerq\n",
    "print(f\"Ceftamin Lower Quartile: {ceft_lowerq}\")\n",
    "print(f\"Ceftamin Middle Quartile: {ceft_midq}\")\n",
    "print(f\"Ceftamin Upper Quartile: {ceft_upperq}\")\n",
    "print(f\"Ceftamin IQR: {ceft_iqr}\")\n",
    "\n",
    "# Determine Potential Outliers\n",
    "\n",
    "ceft_lower_bound = ceft_lowerq - (1.5*pro_iqr)\n",
    "ceft_upper_bound = ceft_upperq + (1.5*pro_iqr)\n",
    "print(f\"Values below {ceft_lower_bound} could be outliers.\")\n",
    "print(f\"Values above {ceft_upper_bound} could be outliers.\")\n",
    "\n",
    "ceftamin_low_outliers = ftv_ceftamin.loc[(ftv_ceftamin[\"Ceftamin Final Tumor Volume\"] < 28.550)]\n",
    "ceftamin_upper_outliers = ftv_ceftamin.loc[(ftv_ceftamin[\"Ceftamin Final Tumor Volume\"] > 84.472)]\n",
    "print(\"Ceftamin - No Outliers\")"
   ]
  },
  {
   "cell_type": "code",
   "execution_count": 28,
   "metadata": {},
   "outputs": [
    {
     "data": {
      "image/png": "[encoded data removed]",
      "text/plain": [
       "<Figure size 432x288 with 1 Axes>"
      ]
     },
     "metadata": {
      "needs_background": "light"
     },
     "output_type": "display_data"
    }
   ],
   "source": [
    "# Generate a box plot of the final tumor volume of each mouse across four regimens of interest\n",
    "data = [ram_volumes, cap_volumes, inf_volumes, ceft_volumes]\n",
    "red_square = dict(markerfacecolor='r', marker='s')\n",
    "fig1, ax1 = plt.subplots()\n",
    "ax1.set_title('Final Tumor Volume Across Four Regimens')\n",
    "ax1.boxplot(data,flierprops=red_square,showmeans=True)\n",
    "ax1.set_ylabel('Final Mouse Tumor Volume (mm3)')\n",
    "plt.xticks([1, 2, 3, 4], ['Ramicane', 'Capomulin', 'Infubinol', 'Ceftamin'])\n",
    "plt.show()"
   ]
  },
  {
   "cell_type": "markdown",
   "metadata": {},
   "source": [
    "## Line and scatter plots"
   ]
  },
  {
   "cell_type": "code",
   "execution_count": 29,
   "metadata": {},
   "outputs": [
    {
     "data": {
      "text/plain": [
       "Text(0.5, 0, 'Timepoint')"
      ]
     },
     "execution_count": 29,
     "metadata": {},
     "output_type": "execute_result"
    },
    {
     "data": {
      "image/png": "[encoded data removed]",
      "text/plain": [
       "<Figure size 432x288 with 1 Axes>"
      ]
     },
     "metadata": {
      "needs_background": "light"
     },
     "output_type": "display_data"
    }
   ],
   "source": [
    "# Generate a line plot of time point versus tumor volume for a mouse treated with Capomulin\n",
    "\n",
    "# Gather only Capomulin Data\n",
    "capomulin_summary = mouse_data_complete.loc[(mouse_data_complete[\"Drug Regimen\"] == \"Capomulin\")]\n",
    "\n",
    "# Search for one mouse - will use Mouse ID (s185)\n",
    "mouse_s185 = capomulin_summary.loc[(capomulin_summary[\"Mouse ID\"] == \"s185\")]\n",
    "\n",
    "# Look at s185's Timepoint & Tumor Volume\n",
    "mouse_s185 = mouse_s185[[\"Timepoint\",\"Tumor Volume (mm3)\"]]\n",
    "\n",
    "# Generate Line Plot of Timepoint and Tumor Volume\n",
    "mouse_s185.plot.line(x='Timepoint', y='Tumor Volume (mm3)')\n",
    "plt.title(\"Mouse s185 Tumor Volume (mm3) vs Timepoint\")\n",
    "plt.ylabel(\"Tumor Volume (mm3)\")\n",
    "plt.xlabel(\"Timepoint\")"
   ]
  },
  {
   "cell_type": "code",
   "execution_count": 30,
   "metadata": {},
   "outputs": [
    {
     "data": {
      "text/plain": [
       "Text(0.5, 0, 'Average Tumor Volume (mm3)')"
      ]
     },
     "execution_count": 30,
     "metadata": {},
     "output_type": "execute_result"
    },
    {
     "data": {
      "image/png": "[encoded data removed]",
      "text/plain": [
       "<Figure size 432x288 with 1 Axes>"
      ]
     },
     "metadata": {
      "needs_background": "light"
     },
     "output_type": "display_data"
    }
   ],
   "source": [
    "# Generate a scatter plot of mouse weight versus average tumor volume for the Capomulin regimen\n",
    "\n",
    "# Gather only Capomulin data\n",
    "capomulin_summary = mouse_data_complete.loc[(mouse_data_complete[\"Drug Regimen\"] == \"Capomulin\")]\n",
    "\n",
    "# Calculate the average tumor volume of each mouse\n",
    "avg_tumor_vol = capomulin_summary.groupby(\"Mouse ID\").mean()[\"Tumor Volume (mm3)\"]\n",
    "\n",
    "# Gather each mouse's weight\n",
    "mouse_weight = capomulin_summary.groupby(\"Mouse ID\").mean()[\"Weight (g)\"]\n",
    "\n",
    "# Create a Dataframe with Weight and Tumor Volume\n",
    "weight_vs_volume = pd.merge(avg_tumor_vol, mouse_weight, how=\"left\", on=[\"Mouse ID\"])\n",
    "\n",
    "# Generate Scatter Plot of Weight and Tumor Volume\n",
    "weight_vs_volume.plot.scatter(x='Tumor Volume (mm3)', y='Weight (g)')\n",
    "plt.title(\"Mouse Weight vs Tumor Volume\")\n",
    "plt.ylabel(\"Weight (g)\")\n",
    "plt.xlabel(\"Average Tumor Volume (mm3)\")"
   ]
  },
  {
   "cell_type": "code",
   "execution_count": 31,
   "metadata": {},
   "outputs": [
    {
     "name": "stdout",
     "output_type": "stream",
     "text": [
      "The correlation between Tumor Volume (mm3) and Weight (g) is 0.84.\n"
     ]
    },
    {
     "data": {
      "image/png": "[encoded data removed]",
      "text/plain": [
       "<Figure size 432x288 with 1 Axes>"
      ]
     },
     "metadata": {
      "needs_background": "light"
     },
     "output_type": "display_data"
    }
   ],
   "source": [
    "# Calculate the correlation coefficient and linear regression model for mouse weight and average tumor volume for the Capomulin regimen\n",
    "x_values = weight_vs_volume['Tumor Volume (mm3)']\n",
    "y_values = weight_vs_volume['Weight (g)']\n",
    "(slope, intercept, rvalue, pvalue, stderr) = linregress(x_values, y_values)\n",
    "regress_values = x_values * slope + intercept\n",
    "line_eq = \"y = \" + str(round(slope,2)) + \"x + \" + str(round(intercept,2))\n",
    "plt.scatter(x_values,y_values)\n",
    "plt.plot(x_values,regress_values,\"r-\")\n",
    "plt.annotate(line_eq,(41,17),fontsize=15,color=\"red\")\n",
    "plt.title(\"Mouse Weight vs Tumor Volume\")\n",
    "plt.ylabel(\"Weight (g)\")\n",
    "plt.xlabel(\"Average Tumor Volume (mm3)\")\n",
    "correlation = st.pearsonr(x_values,y_values)\n",
    "print(f\"The correlation between Tumor Volume (mm3) and Weight (g) is {round(correlation[0],2)}.\")"
   ]
  },
  {
   "cell_type": "code",
   "execution_count": null,
   "metadata": {},
   "outputs": [],
   "source": []
  }
 ],
 "metadata": {
  "anaconda-cloud": {},
  "kernelspec": {
   "display_name": "Python 3",
   "language": "python",
   "name": "python3"
  },
  "language_info": {
   "codemirror_mode": {
    "name": "ipython",
    "version": 3
   },
   "file_extension": ".py",
   "mimetype": "text/x-python",
   "name": "python",
   "nbconvert_exporter": "python",
   "pygments_lexer": "ipython3",
   "version": "3.6.9"
  }
 },
 "nbformat": 4,
 "nbformat_minor": 2
}
